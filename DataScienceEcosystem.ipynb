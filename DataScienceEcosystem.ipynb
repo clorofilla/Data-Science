{
 "cells": [
  {
   "cell_type": "markdown",
   "id": "40e42cd2-3cc6-4d24-b23a-84e438740aab",
   "metadata": {},
   "source": [
    "<center>\n",
    "    <img src=\"https://cf-courses-data.s3.us.cloud-object-storage.appdomain.cloud/IBMDeveloperSkillsNetwork-DS0105EN-SkillsNetwork/labs/Module2/images/SN_web_lightmode.png\" width=\"300\" alt=\"cognitiveclass.ai logo\">\n",
    "</center>"
   ]
  },
  {
   "cell_type": "markdown",
   "id": "d610454b-6e45-4334-9581-4e8b4690277c",
   "metadata": {},
   "source": [
    "#### Add your code below following the instructions given in the course"
   ]
  },
  {
   "cell_type": "markdown",
   "id": "75e12ff9-f12b-4554-84c2-16ec123d93ba",
   "metadata": {},
   "source": [
    "# Data Science Tools and Ecosystem"
   ]
  },
  {
   "cell_type": "markdown",
   "id": "851c8c53-b69d-468b-88cc-476349058011",
   "metadata": {},
   "source": [
    "##### In this notebook, Data Science Tools and Ecosystem are summarized."
   ]
  },
  {
   "cell_type": "markdown",
   "id": "53902c58-bd59-4eda-b189-da69a7d09058",
   "metadata": {},
   "source": [
    "**Objectives:**\n",
    "* Popular languages that Data Scientists\n",
    "* Commonly used libraries used by Data Scientists\n",
    "* Data Science tools\n",
    "* Arithmetic expressions: addition\n",
    "    * addition and multiplication\n",
    "* Convert minutes to hours"
   ]
  },
  {
   "cell_type": "markdown",
   "id": "c56e95fb-1b08-4cbf-8416-0d53d184b698",
   "metadata": {},
   "source": [
    "Some of the popular languages that Data Scientists use are:\n",
    "1. Python\n",
    "2. R\n",
    "3. SQL\n",
    "4. Scala\n",
    "5. Java\n",
    "6. JavaScript"
   ]
  },
  {
   "cell_type": "markdown",
   "id": "983f0d46-0ff7-4908-986c-3bbcf886bd61",
   "metadata": {},
   "source": [
    "Some of the commonly used libraries used by Data Scientists include:\n",
    "\n",
    "1. NumPy\n",
    "2. Pandas\n",
    "3. Matplotlib\n",
    "4. SciPy \n",
    "5. Keras\n",
    "6. TensorFlow\n",
    "7. PyTorch\n",
    "8. Seaborn\n",
    "9. NLTK (Natural Language Toolkit)\n",
    "10. Scikit-learn \n"
   ]
  },
  {
   "cell_type": "markdown",
   "id": "4e0732d9-7d2a-497a-b6ac-d91787e916ce",
   "metadata": {},
   "source": [
    "|Data Science Tools|\n",
    "| ---------------- |\n",
    "| Jupyter |\n",
    "| RStudio |\n",
    "| Spyder |"
   ]
  },
  {
   "cell_type": "markdown",
   "id": "32755c68-e681-46b1-8f2a-9a43e65efa58",
   "metadata": {},
   "source": [
    "### Below are a few examples of evaluating arithmetic expressions in Python"
   ]
  },
  {
   "cell_type": "code",
   "execution_count": 2,
   "id": "b9f8cb14-40b5-43e6-aa52-5beb8f5f4679",
   "metadata": {},
   "outputs": [
    {
     "name": "stdout",
     "output_type": "stream",
     "text": [
      "17\n"
     ]
    }
   ],
   "source": [
    "# Code to multiply and add numbers\n",
    "print((3*4)+5)"
   ]
  },
  {
   "cell_type": "code",
   "execution_count": 3,
   "id": "e3aa49ea-8f2f-4957-84f7-54f2beed1d7e",
   "metadata": {},
   "outputs": [
    {
     "name": "stdout",
     "output_type": "stream",
     "text": [
      "3.3\n"
     ]
    }
   ],
   "source": [
    "# This expression will convert 200 minutes to hours by diving by 60\n",
    "hours = 200/60\n",
    "print(round(hours, 1))"
   ]
  },
  {
   "cell_type": "markdown",
   "id": "10f898ea-815f-457a-bdf3-e57cd5e1aaa1",
   "metadata": {},
   "source": [
    "## Author\n",
    "Ermesa Pepe"
   ]
  },
  {
   "cell_type": "code",
   "execution_count": null,
   "id": "1301d52f-1e8c-47a1-9fa8-faf9e64aa725",
   "metadata": {},
   "outputs": [],
   "source": []
  }
 ],
 "metadata": {
  "kernelspec": {
   "display_name": "Python 3 (ipykernel)",
   "language": "python",
   "name": "python3"
  },
  "language_info": {
   "codemirror_mode": {
    "name": "ipython",
    "version": 3
   },
   "file_extension": ".py",
   "mimetype": "text/x-python",
   "name": "python",
   "nbconvert_exporter": "python",
   "pygments_lexer": "ipython3",
   "version": "3.11.4"
  }
 },
 "nbformat": 4,
 "nbformat_minor": 5
}
